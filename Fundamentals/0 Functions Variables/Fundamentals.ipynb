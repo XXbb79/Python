{
 "cells": [
  {
   "cell_type": "markdown",
   "metadata": {},
   "source": [
    "# Fundamentals"
   ]
  },
  {
   "cell_type": "markdown",
   "metadata": {},
   "source": [
    "## Contents\n",
    "- Terminal window\n",
    "- Functions\n",
    "    - \n",
    "    - \n",
    "    - \n",
    "- \n",
    "- \n",
    "- \n",
    "- \n",
    "- \n",
    "- \n",
    "- \n",
    "- \n",
    "- \n",
    "- "
   ]
  },
  {
   "cell_type": "markdown",
   "metadata": {},
   "source": [
    "## Terminal window\n",
    "- command line interface, CLI interface to the underlying computer\n",
    "\n",
    "- In terminal, run:\n",
    "    `code hello.py`\n",
    "    This opens a new python document called hello.py\n",
    "- `python hello.py`\n",
    "    This runs the hello.py document and gives the output in the terminal"
   ]
  },
  {
   "cell_type": "markdown",
   "metadata": {},
   "source": [
    "## Functions\n",
    "- an action, a verb that lets you do *something* in the program\n",
    "- e.x. print function\n",
    "    print some preordained string of text\n"
   ]
  },
  {
   "cell_type": "markdown",
   "metadata": {},
   "source": [
    "### Arguments\n",
    "- an input to a function that somehows influences its behavior\n",
    "- e.x. in print function, your input of string of text is entered within a parenthesis"
   ]
  },
  {
   "cell_type": "markdown",
   "metadata": {},
   "source": [
    "### Side effect\n",
    "- visual/audio effects of a function\n",
    "- e.x. in print, we see what is printed out"
   ]
  },
  {
   "cell_type": "code",
   "execution_count": null,
   "metadata": {},
   "outputs": [],
   "source": [
    "print(\"hello, world\")"
   ]
  },
  {
   "cell_type": "markdown",
   "metadata": {},
   "source": [
    "## Bugs\n",
    "- mistake in programming"
   ]
  },
  {
   "cell_type": "markdown",
   "metadata": {},
   "source": [
    "## Return values\n",
    "- receive input, and provide output"
   ]
  },
  {
   "cell_type": "markdown",
   "metadata": {},
   "source": [
    "## Variables\n",
    "- create a variable in the computer's memory\n",
    "- a variable stores a value (a number, a text, an image, a video, etc)"
   ]
  },
  {
   "cell_type": "markdown",
   "metadata": {},
   "source": [
    "## Operators\n",
    "### Assignment Operators\n",
    "- variable name = value\n",
    "- assign from right to left\n",
    "- value is stored in the variable to use for later\n",
    "- `height = 180`"
   ]
  },
  {
   "cell_type": "markdown",
   "metadata": {},
   "source": [
    "## Comments\n",
    "- Notes to yourself in the code\n",
    "- `# comment`\n",
    "- ``` comment```\n",
    "- Python ignores comment, this is just for other human to read"
   ]
  },
  {
   "cell_type": "markdown",
   "metadata": {},
   "source": [
    "## Pseudocode\n",
    "- use English to express thoughts algorithmically"
   ]
  },
  {
   "cell_type": "markdown",
   "metadata": {},
   "source": []
  },
  {
   "cell_type": "markdown",
   "metadata": {},
   "source": []
  },
  {
   "cell_type": "markdown",
   "metadata": {},
   "source": []
  }
 ],
 "metadata": {
  "language_info": {
   "name": "python"
  }
 },
 "nbformat": 4,
 "nbformat_minor": 2
}
